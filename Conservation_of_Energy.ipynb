{
  "nbformat": 4,
  "nbformat_minor": 0,
  "metadata": {
    "colab": {
      "provenance": [],
      "include_colab_link": true
    },
    "kernelspec": {
      "name": "python3",
      "display_name": "Python 3"
    },
    "language_info": {
      "name": "python"
    }
  },
  "cells": [
    {
      "cell_type": "markdown",
      "metadata": {
        "id": "view-in-github",
        "colab_type": "text"
      },
      "source": [
        "<a href=\"https://colab.research.google.com/github/fizzixprof/apc-energy/blob/main/Conservation_of_Energy.ipynb\" target=\"_parent\"><img src=\"https://colab.research.google.com/assets/colab-badge.svg\" alt=\"Open In Colab\"/></a>"
      ]
    },
    {
      "cell_type": "markdown",
      "metadata": {
        "id": "sFchIBivyHjA"
      },
      "source": [
        "##AP Physics C\n",
        "###Unit 4: Work and Energy\n",
        "**Lab:** *Conservation of Energy with a Bouncing Ball*\n",
        "\n",
        "For this experiment, talk with your group members about how much coding experience they have.  Work together and help each other, don't let one person do all the coding.\n",
        "\n",
        "**Purpose:**\n",
        "The purpose of this lab is to investigate the relationship between\n",
        "the potential and kinetic energies of a bouncing object, and relate both to the total mechanical energy of the bouncing object.\n",
        "\n",
        "**Procedure**\n",
        "In Logger Pro **export your best data to your google drive as CSV.**\n",
        " This Colab file will help you process your CSV data set and graph it. Most of the coding has already been done for you, you need to read each block of code before you run it to add or change anything that is required for your own data.\n"
      ]
    },
    {
      "cell_type": "markdown",
      "metadata": {
        "id": "GHGhtWZ2yHzR"
      },
      "source": [
        "##Import libraries"
      ]
    },
    {
      "cell_type": "code",
      "metadata": {
        "id": "L4Shl7eb2SXP"
      },
      "source": [
        "# a hashtag comments out the text after it so it won't be part of your code\n",
        "\n",
        "# We've included some links and potential tools, but the rest is up to you! Put your code here.\n",
        "# Pro tip: programmers often copy/paste code from their previous work\n",
        "# this cell only needs to be run once, but re-exectuing it doesn't hurt anything either\n",
        "# this cell imports software packages\n",
        "\n",
        "import pandas as pd\n",
        "import numpy as np\n",
        "%matplotlib inline\n",
        "import matplotlib as mpl\n",
        "import matplotlib.pyplot as plt"
      ],
      "execution_count": null,
      "outputs": []
    },
    {
      "cell_type": "markdown",
      "metadata": {
        "id": "ruHttEVq3E0o"
      },
      "source": [
        "##Starting Data\n",
        "\n",
        "The mass of the ball is __ kg.\n",
        "\n",
        "The diameter of your ball is __ m.\n",
        "\n",
        "The distance from your detector to the floor is __ m.\n",
        "\n",
        "##Import your Dataset"
      ]
    },
    {
      "cell_type": "code",
      "metadata": {
        "id": "iWJJ24oA4W99"
      },
      "source": [
        "# import your own data - you need to copy/paste your google doc link but keep '/export' at the end\n",
        "\n",
        "data = pd.read_excel('YOUR FILE HERE')\n",
        "\n",
        "# The .head(n) command displays the first n rows of a file.\n",
        "data.head(n) #replace 'n' with a number"
      ],
      "execution_count": null,
      "outputs": []
    },
    {
      "cell_type": "code",
      "metadata": {
        "id": "Qb0V9OnH3ua5"
      },
      "source": [
        "# get a sense of your entire data set with this command\n",
        "data.shape"
      ],
      "execution_count": null,
      "outputs": []
    },
    {
      "cell_type": "markdown",
      "metadata": {
        "id": "uk6RScDvydp_"
      },
      "source": [
        "##Calculate KE, PE and ME from our data"
      ]
    },
    {
      "cell_type": "code",
      "metadata": {
        "id": "A4bPi7K0pTPH"
      },
      "source": [
        " #This code adds columns  for height for each event, PE, KE and adds those to find total ME\n",
        "# Before you complete the following code you will need to know the mass of the basketball and the distance from the motion detector to the floor.\n",
        "# In our example our mass is 40kg and our distance is 3.0 meters\n",
        "# Then it prints out some or the file so you can see it worked\n",
        "m= # type in your mass from above\n",
        "d= # distance from sensor to top of the basketball\n",
        "D= # D diameter of the basketball\n",
        "data['Height'] = ((d-D) - data['Latest: Position (m)'])\n",
        "data['PE'] = #type in an equation based on the variables we're using\n",
        "data['KE'] = #type in an equation based on the variables we're using\n",
        "data['Total Mechanical Energy'] = #type in an equation based on the variables we're using\n",
        "\n",
        "# show the data table now that you've added columns\n",
        "data.tail(3)\n"
      ],
      "execution_count": null,
      "outputs": []
    },
    {
      "cell_type": "markdown",
      "metadata": {
        "id": "BbCRghFrypjs"
      },
      "source": [
        "##Graph your data"
      ]
    },
    {
      "cell_type": "code",
      "metadata": {
        "id": "C3895WVqtbH4"
      },
      "source": [
        "plt.figure(figsize=(10,7)) # Make it 14x7 inch but you can change it to any size that you want\n",
        "plt.style.use('seaborn-whitegrid') # nice and clean\n",
        "plt.plot(data['Latest: Time (s)'],data['PE'],linestyle='--', marker='o', color='b', markersize=2, label='PE')\n",
        "plt.plot(data['Latest: Time (s)'],data['KE'],linestyle='--', marker='o', color='r', markersize=2, label='KE')\n",
        "plt.plot(data['Latest: Time (s)'],data['Total Mechanical Energy'],linestyle='--', marker='o', color='g', markersize=2, label='ME')\n",
        "plt.xlabel('LABEL X-AXIS')\n",
        "plt.ylabel('LABEL Y-AXIS')\n",
        "plt.title('TYPE YOUR TITLE HERE')\n",
        "plt.legend()\n",
        "plt.grid(True)\n",
        "plt.axis([0, 4.5, -1, 2.75]) #this many need to be changed based on the mass of your ball\n",
        "# Arrange ticks like this or more efficiently if possible\n",
        "plt.xticks(np.arange(0, 4.5, .25))\n",
        "plt.yticks(np.arange(-1, 2.75, .25)) #this many need to be changed based on the mass of your ball\n",
        "plt.show()"
      ],
      "execution_count": null,
      "outputs": []
    },
    {
      "cell_type": "markdown",
      "source": [
        "##Questions and Analysis\n"
      ],
      "metadata": {
        "id": "xVrUDiN3jF0W"
      }
    },
    {
      "cell_type": "markdown",
      "source": [
        "**Describe your graph**\n",
        "\n",
        "What are the highest points? (find this information, search online for how to see these values)\n",
        "\n",
        "Are there repetitions to the shapes?\n",
        "\n",
        "What trends do you see?\n",
        "\n",
        "What seems to be wrong with the graph, if anything? Give a brief explanation if you understand why something doesn't look right."
      ],
      "metadata": {
        "id": "tZXa30uhjWul"
      }
    },
    {
      "cell_type": "markdown",
      "source": [
        "**Describe your data**\n",
        "\n",
        "What was the initial, total amount of energy the ball had? How do you know?\n",
        "\n",
        "How much energy did the ball lose in the first bounce? Both as a number and as a percentage of the total.\n",
        "\n",
        "Did the ball lose a similar percentage of energy with each bounce?\n",
        "\n",
        "Where did this energy go?"
      ],
      "metadata": {
        "id": "H1BrfkaJjuwS"
      }
    },
    {
      "cell_type": "markdown",
      "metadata": {
        "id": "m-EiA-QXwrYQ"
      },
      "source": [
        "##Saving Your Work\n",
        "This is running on a Google server on a distant planet and deletes what you've done when you close this tab. To save your work for later use or analysis you have a few options:\n",
        "\n",
        "File > \"Save a copy in Drive\" will save it to you Google Drive in a folder called \"Collaboratory\". You can run it later from there.\n",
        "File > \"Download .ipynb\" to save to your computer (and run with Jupyter software later)\n",
        "\n",
        "To save an image of a graph or chart, right-click on it and select Save Image as ...\n",
        "\n",
        "This activity was created by Tiffany Coke during a coding workshop held by [Quarknet](https://quarknet.org/home)."
      ]
    }
  ]
}